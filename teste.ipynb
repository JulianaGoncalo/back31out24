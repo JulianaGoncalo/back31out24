{
 "cells": [
  {
   "cell_type": "code",
   "execution_count": 1,
   "metadata": {},
   "outputs": [
    {
     "name": "stdout",
     "output_type": "stream",
     "text": [
      "Collecting mysql\n",
      "  Downloading mysql-0.0.3-py3-none-any.whl.metadata (746 bytes)\n",
      "Collecting mysqlclient (from mysql)\n",
      "  Downloading mysqlclient-2.2.5-cp312-cp312-win_amd64.whl.metadata (4.8 kB)\n",
      "Downloading mysql-0.0.3-py3-none-any.whl (1.2 kB)\n",
      "Downloading mysqlclient-2.2.5-cp312-cp312-win_amd64.whl (207 kB)\n",
      "Installing collected packages: mysqlclient, mysql\n",
      "Successfully installed mysql-0.0.3 mysqlclient-2.2.5\n"
     ]
    }
   ],
   "source": [
    "!pip3 install mysql"
   ]
  },
  {
   "cell_type": "code",
   "execution_count": 2,
   "metadata": {},
   "outputs": [],
   "source": [
    "#bibliioteca mysql\n",
    "\n",
    "import mysql.connector"
   ]
  },
  {
   "cell_type": "code",
   "execution_count": 5,
   "metadata": {},
   "outputs": [
    {
     "name": "stdout",
     "output_type": "stream",
     "text": [
      "('contato_facil',)\n",
      "('information_schema',)\n",
      "('mysql',)\n",
      "('performance_schema',)\n",
      "('phpmyadmin',)\n",
      "('test',)\n",
      "('teste2',)\n",
      "('teste3',)\n"
     ]
    }
   ],
   "source": [
    "minha_conexao_mysql = mysql.connector.connect(\n",
    "    host = \"localhost\",\n",
    "    user = \"root\",\n",
    "    password = \"\",\n",
    ")\n",
    "\n",
    "meu_cursor = minha_conexao_mysql.cursor()\n",
    "meu_cursor.execute(\"SHOW DATABASES\")\n",
    "\n",
    "for z in meu_cursor:\n",
    "    print(z)"
   ]
  },
  {
   "cell_type": "code",
   "execution_count": 6,
   "metadata": {},
   "outputs": [],
   "source": [
    "#criamos nossa base de dados\n",
    "meu_cursor.execute(\"CREATE DATABASE diogenesbd2\")"
   ]
  },
  {
   "cell_type": "code",
   "execution_count": 7,
   "metadata": {},
   "outputs": [],
   "source": [
    "meu_cursor.execute(\"CREATE DATABASE base1\")\n",
    "meu_cursor.execute(\"CREATE DATABASE base2\")\n",
    "meu_cursor.execute(\"CREATE DATABASE base3\")\n",
    "meu_cursor.execute(\"CREATE DATABASE base4\")"
   ]
  },
  {
   "cell_type": "code",
   "execution_count": 10,
   "metadata": {},
   "outputs": [],
   "source": [
    "meu_cursor.execute(\"USE diogenesbd2\")"
   ]
  },
  {
   "cell_type": "code",
   "execution_count": 11,
   "metadata": {},
   "outputs": [],
   "source": [
    "meu_cursor.execute(\"CREATE TABLE dados_pessoais (nome VARCHAR(255), endereco VARCHAR(255))\")"
   ]
  },
  {
   "cell_type": "code",
   "execution_count": 12,
   "metadata": {},
   "outputs": [
    {
     "name": "stdout",
     "output_type": "stream",
     "text": [
      "('dados_pessoais',)\n"
     ]
    }
   ],
   "source": [
    "meu_cursor.execute(\"SHOW TABLES\")\n",
    "\n",
    "for z in meu_cursor:\n",
    "    print(z)"
   ]
  },
  {
   "cell_type": "code",
   "execution_count": 13,
   "metadata": {},
   "outputs": [],
   "source": [
    "meu_cursor.execute(\"CREATE TABLE dados_pessoais_2 (id INT AUTO_INCREMENT PRIMARY KEY, nome VARCHAR(255), endereco VARCHAR(255))\")"
   ]
  },
  {
   "cell_type": "code",
   "execution_count": 15,
   "metadata": {},
   "outputs": [],
   "source": [
    "meu_cursor.execute(\"ALTER TABLE dados_pessoais ADD COLUMN cpf INT PRIMARY KEY\")"
   ]
  },
  {
   "cell_type": "code",
   "execution_count": 16,
   "metadata": {},
   "outputs": [],
   "source": [
    "sql = \"INSERT INTO dados_pessoais (nome, endereco) VALUES (%s, %s)\"\n",
    "valor = (\"Diogenes Carvalho Matias\", \"Avenida Genreal Manoel Rabelo\")\n",
    "meu_cursor.execute(sql, valor)"
   ]
  },
  {
   "cell_type": "code",
   "execution_count": 18,
   "metadata": {},
   "outputs": [
    {
     "name": "stdout",
     "output_type": "stream",
     "text": [
      "1 nossa linha foi inserida.\n"
     ]
    }
   ],
   "source": [
    "minha_conexao_mysql.commit()\n",
    "\n",
    "print(meu_cursor.rowcount, \"nossa linha foi inserida.\")"
   ]
  },
  {
   "cell_type": "code",
   "execution_count": 21,
   "metadata": {},
   "outputs": [],
   "source": [
    "sql = \"INSERT INTO dados_pessoais_2(nome, endereco) VALUES (%s, %s)\"\n",
    "valor = (\"Lucas\", \"Avenida da paz\")\n",
    "meu_cursor.execute(sql, valor)"
   ]
  },
  {
   "cell_type": "code",
   "execution_count": 22,
   "metadata": {},
   "outputs": [],
   "source": [
    "sql = \"INSERT INTO dados_pessoais_2 (nome, endereco) VALUES (%s, %s)\"\n",
    "valor = (\"Carlos\", \"Avenida do amor\")\n",
    "meu_cursor.execute(sql, valor)"
   ]
  },
  {
   "cell_type": "code",
   "execution_count": 23,
   "metadata": {},
   "outputs": [],
   "source": [
    "sql = \"INSERT INTO dados_pessoais_2 (nome, endereco) VALUES (%s, %s)\"\n",
    "valor = (\"Rafael\", \"Avenida da alegria\")\n",
    "meu_cursor.execute(sql, valor)"
   ]
  },
  {
   "cell_type": "code",
   "execution_count": 24,
   "metadata": {},
   "outputs": [
    {
     "name": "stdout",
     "output_type": "stream",
     "text": [
      "1 nossa linha foi inserida.\n"
     ]
    }
   ],
   "source": [
    "minha_conexao_mysql.commit()\n",
    "\n",
    "print(meu_cursor.rowcount, \"nossa linha foi inserida.\")"
   ]
  },
  {
   "cell_type": "code",
   "execution_count": 25,
   "metadata": {},
   "outputs": [],
   "source": [
    "sql = \"INSERT INTO dados_pessoais_2 (nome, endereco) VALUES (%s, %s)\"\n",
    "valores = [\n",
    "\n",
    "    ('Vitoria', 'Rua 16'),\n",
    "    ('Andre', 'Rua 133'),\n",
    "    ('Pedro', 'Rua 13'),\n",
    "    ('Chico', 'Rua 633')\n",
    "]"
   ]
  },
  {
   "cell_type": "code",
   "execution_count": 26,
   "metadata": {},
   "outputs": [
    {
     "name": "stdout",
     "output_type": "stream",
     "text": [
      "4 nossa linha foi adicionada.\n"
     ]
    }
   ],
   "source": [
    "meu_cursor.executemany(sql,valores)\n",
    "\n",
    "minha_conexao_mysql.commit()\n",
    "\n",
    "print (meu_cursor.rowcount, \"nossa linha foi adicionada.\")"
   ]
  },
  {
   "cell_type": "code",
   "execution_count": 27,
   "metadata": {},
   "outputs": [],
   "source": [
    "meu_cursor.execute(\"SELECT *FROM dados_pessoais_2\")"
   ]
  },
  {
   "cell_type": "code",
   "execution_count": 28,
   "metadata": {},
   "outputs": [],
   "source": [
    "nosso_resultado = meu_cursor.fetchall()\n"
   ]
  },
  {
   "cell_type": "code",
   "execution_count": 29,
   "metadata": {},
   "outputs": [
    {
     "name": "stdout",
     "output_type": "stream",
     "text": [
      "(1, 'Lucas', 'Avenida da paz')\n",
      "(2, 'Carlos', 'Avenida do amor')\n",
      "(3, 'Rafael', 'Avenida da alegria')\n",
      "(4, 'Vitoria', 'Rua 16')\n",
      "(5, 'Andre', 'Rua 133')\n",
      "(6, 'Pedro', 'Rua 13')\n",
      "(7, 'Chico', 'Rua 633')\n"
     ]
    }
   ],
   "source": [
    "for x in nosso_resultado:\n",
    "    print(x)"
   ]
  },
  {
   "cell_type": "code",
   "execution_count": 39,
   "metadata": {},
   "outputs": [],
   "source": [
    "# sql = \"SELECT * FROM dados_pessoais_2 WHERE nome = 'Vitoria'\"\n",
    "\n",
    "sql = \"SELECT * FROM dados_pessoais_2 WHERE nome = 'Carlos'\""
   ]
  },
  {
   "cell_type": "code",
   "execution_count": 40,
   "metadata": {},
   "outputs": [],
   "source": [
    "meu_cursor.execute(sql)"
   ]
  },
  {
   "cell_type": "code",
   "execution_count": 41,
   "metadata": {},
   "outputs": [],
   "source": [
    "nosso_resultado = meu_cursor.fetchall()"
   ]
  },
  {
   "cell_type": "code",
   "execution_count": 42,
   "metadata": {},
   "outputs": [
    {
     "name": "stdout",
     "output_type": "stream",
     "text": [
      "(2, 'Carlos', 'Avenida do amor')\n"
     ]
    }
   ],
   "source": [
    "for x in nosso_resultado:\n",
    "    print(x)"
   ]
  },
  {
   "cell_type": "code",
   "execution_count": 51,
   "metadata": {},
   "outputs": [],
   "source": [
    "sql = \"SELECT * FROM dados_pessoais_2 WHERE endereco LIKE '%ua%'\""
   ]
  },
  {
   "cell_type": "code",
   "execution_count": 52,
   "metadata": {},
   "outputs": [],
   "source": [
    "meu_cursor.execute(sql)"
   ]
  },
  {
   "cell_type": "code",
   "execution_count": 65,
   "metadata": {},
   "outputs": [
    {
     "ename": "SyntaxError",
     "evalue": "incomplete input (202159753.py, line 1)",
     "output_type": "error",
     "traceback": [
      "\u001b[1;36m  Cell \u001b[1;32mIn[65], line 1\u001b[1;36m\u001b[0m\n\u001b[1;33m    nosso_resultado = meu_cursor.fetchall(\u001b[0m\n\u001b[1;37m                                          ^\u001b[0m\n\u001b[1;31mSyntaxError\u001b[0m\u001b[1;31m:\u001b[0m incomplete input\n"
     ]
    }
   ],
   "source": [
    "nosso_resultado = meu_cursor.fetchall()"
   ]
  },
  {
   "cell_type": "code",
   "execution_count": 54,
   "metadata": {},
   "outputs": [
    {
     "name": "stdout",
     "output_type": "stream",
     "text": [
      "(4, 'Vitoria', 'Rua 16')\n",
      "(5, 'Andre', 'Rua 133')\n",
      "(6, 'Pedro', 'Rua 13')\n",
      "(7, 'Chico', 'Rua 633')\n"
     ]
    }
   ],
   "source": [
    "for x in nosso_resultado:\n",
    "    print(x)"
   ]
  },
  {
   "cell_type": "code",
   "execution_count": 55,
   "metadata": {},
   "outputs": [],
   "source": [
    "sql = \"SELECT *FROM dados_pessoais_2 ORDER BY nome\""
   ]
  },
  {
   "cell_type": "code",
   "execution_count": 56,
   "metadata": {},
   "outputs": [],
   "source": [
    "meu_cursor.execute(sql)"
   ]
  },
  {
   "cell_type": "code",
   "execution_count": 57,
   "metadata": {},
   "outputs": [],
   "source": [
    "nosso_resultado = meu_cursor.fetchall()"
   ]
  },
  {
   "cell_type": "code",
   "execution_count": 58,
   "metadata": {},
   "outputs": [
    {
     "name": "stdout",
     "output_type": "stream",
     "text": [
      "(5, 'Andre', 'Rua 133')\n",
      "(2, 'Carlos', 'Avenida do amor')\n",
      "(7, 'Chico', 'Rua 633')\n",
      "(1, 'Lucas', 'Avenida da paz')\n",
      "(6, 'Pedro', 'Rua 13')\n",
      "(3, 'Rafael', 'Avenida da alegria')\n",
      "(4, 'Vitoria', 'Rua 16')\n"
     ]
    }
   ],
   "source": [
    "for x in nosso_resultado:\n",
    "    print(x)"
   ]
  },
  {
   "cell_type": "code",
   "execution_count": 61,
   "metadata": {},
   "outputs": [],
   "source": [
    "sql = \"SELECT *FROM dados_pessoais_2 ORDER BY nome DESC\""
   ]
  },
  {
   "cell_type": "code",
   "execution_count": 62,
   "metadata": {},
   "outputs": [],
   "source": [
    "meu_cursor.execute(sql)"
   ]
  },
  {
   "cell_type": "code",
   "execution_count": 63,
   "metadata": {},
   "outputs": [],
   "source": [
    "nosso_resultado = meu_cursor.fetchall()"
   ]
  },
  {
   "cell_type": "code",
   "execution_count": 64,
   "metadata": {},
   "outputs": [
    {
     "name": "stdout",
     "output_type": "stream",
     "text": [
      "(4, 'Vitoria', 'Rua 16')\n",
      "(3, 'Rafael', 'Avenida da alegria')\n",
      "(6, 'Pedro', 'Rua 13')\n",
      "(1, 'Lucas', 'Avenida da paz')\n",
      "(7, 'Chico', 'Rua 633')\n",
      "(2, 'Carlos', 'Avenida do amor')\n",
      "(5, 'Andre', 'Rua 133')\n"
     ]
    }
   ],
   "source": [
    "for x in nosso_resultado:\n",
    "    print(x)"
   ]
  }
 ],
 "metadata": {
  "kernelspec": {
   "display_name": "Python 3",
   "language": "python",
   "name": "python3"
  },
  "language_info": {
   "codemirror_mode": {
    "name": "ipython",
    "version": 3
   },
   "file_extension": ".py",
   "mimetype": "text/x-python",
   "name": "python",
   "nbconvert_exporter": "python",
   "pygments_lexer": "ipython3",
   "version": "3.12.5"
  }
 },
 "nbformat": 4,
 "nbformat_minor": 2
}
